{
 "cells": [
  {
   "cell_type": "markdown",
   "id": "7bf8eb35",
   "metadata": {},
   "source": [
    "### Dependencies"
   ]
  },
  {
   "cell_type": "code",
   "execution_count": 1,
   "id": "f0f3a261",
   "metadata": {},
   "outputs": [],
   "source": [
    "import numpy as np\n",
    "import pandas as pd\n",
    "from sklearn.model_selection import train_test_split\n",
    "from sklearn.preprocessing import StandardScaler\n",
    "from sklearn import linear_model\n",
    "from sklearn.metrics import r2_score\n",
    "import tensorflow as tf\n",
    "import matplotlib.pyplot as plt\n",
    "import seaborn as sns"
   ]
  },
  {
   "cell_type": "markdown",
   "id": "328930e2",
   "metadata": {},
   "source": [
    "### Read into df"
   ]
  },
  {
   "cell_type": "code",
   "execution_count": 2,
   "id": "284ff5a6",
   "metadata": {},
   "outputs": [
    {
     "name": "stdout",
     "output_type": "stream",
     "text": [
      "Dataset loaded successfully!\n",
      "Shape: (3047, 34)\n",
      "Number of features: 34\n",
      "Columns: ['avgAnnCount', 'avgDeathsPerYear', 'TARGET_deathRate', 'incidenceRate', 'medIncome', 'popEst2015', 'povertyPercent', 'studyPerCap', 'binnedInc', 'MedianAge', 'MedianAgeMale', 'MedianAgeFemale', 'Geography', 'AvgHouseholdSize', 'PercentMarried', 'PctNoHS18_24', 'PctHS18_24', 'PctSomeCol18_24', 'PctBachDeg18_24', 'PctHS25_Over', 'PctBachDeg25_Over', 'PctEmployed16_Over', 'PctUnemployed16_Over', 'PctPrivateCoverage', 'PctPrivateCoverageAlone', 'PctEmpPrivCoverage', 'PctPublicCoverage', 'PctPublicCoverageAlone', 'PctWhite', 'PctBlack', 'PctAsian', 'PctOtherRace', 'PctMarriedHouseholds', 'BirthRate']\n",
      "\n",
      "First 5 rows:\n"
     ]
    },
    {
     "data": {
      "application/vnd.microsoft.datawrangler.viewer.v0+json": {
       "columns": [
        {
         "name": "index",
         "rawType": "int64",
         "type": "integer"
        },
        {
         "name": "avgAnnCount",
         "rawType": "float64",
         "type": "float"
        },
        {
         "name": "avgDeathsPerYear",
         "rawType": "int64",
         "type": "integer"
        },
        {
         "name": "TARGET_deathRate",
         "rawType": "float64",
         "type": "float"
        },
        {
         "name": "incidenceRate",
         "rawType": "float64",
         "type": "float"
        },
        {
         "name": "medIncome",
         "rawType": "int64",
         "type": "integer"
        },
        {
         "name": "popEst2015",
         "rawType": "int64",
         "type": "integer"
        },
        {
         "name": "povertyPercent",
         "rawType": "float64",
         "type": "float"
        },
        {
         "name": "studyPerCap",
         "rawType": "float64",
         "type": "float"
        },
        {
         "name": "binnedInc",
         "rawType": "object",
         "type": "string"
        },
        {
         "name": "MedianAge",
         "rawType": "float64",
         "type": "float"
        },
        {
         "name": "MedianAgeMale",
         "rawType": "float64",
         "type": "float"
        },
        {
         "name": "MedianAgeFemale",
         "rawType": "float64",
         "type": "float"
        },
        {
         "name": "Geography",
         "rawType": "object",
         "type": "string"
        },
        {
         "name": "AvgHouseholdSize",
         "rawType": "float64",
         "type": "float"
        },
        {
         "name": "PercentMarried",
         "rawType": "float64",
         "type": "float"
        },
        {
         "name": "PctNoHS18_24",
         "rawType": "float64",
         "type": "float"
        },
        {
         "name": "PctHS18_24",
         "rawType": "float64",
         "type": "float"
        },
        {
         "name": "PctSomeCol18_24",
         "rawType": "float64",
         "type": "float"
        },
        {
         "name": "PctBachDeg18_24",
         "rawType": "float64",
         "type": "float"
        },
        {
         "name": "PctHS25_Over",
         "rawType": "float64",
         "type": "float"
        },
        {
         "name": "PctBachDeg25_Over",
         "rawType": "float64",
         "type": "float"
        },
        {
         "name": "PctEmployed16_Over",
         "rawType": "float64",
         "type": "float"
        },
        {
         "name": "PctUnemployed16_Over",
         "rawType": "float64",
         "type": "float"
        },
        {
         "name": "PctPrivateCoverage",
         "rawType": "float64",
         "type": "float"
        },
        {
         "name": "PctPrivateCoverageAlone",
         "rawType": "float64",
         "type": "float"
        },
        {
         "name": "PctEmpPrivCoverage",
         "rawType": "float64",
         "type": "float"
        },
        {
         "name": "PctPublicCoverage",
         "rawType": "float64",
         "type": "float"
        },
        {
         "name": "PctPublicCoverageAlone",
         "rawType": "float64",
         "type": "float"
        },
        {
         "name": "PctWhite",
         "rawType": "float64",
         "type": "float"
        },
        {
         "name": "PctBlack",
         "rawType": "float64",
         "type": "float"
        },
        {
         "name": "PctAsian",
         "rawType": "float64",
         "type": "float"
        },
        {
         "name": "PctOtherRace",
         "rawType": "float64",
         "type": "float"
        },
        {
         "name": "PctMarriedHouseholds",
         "rawType": "float64",
         "type": "float"
        },
        {
         "name": "BirthRate",
         "rawType": "float64",
         "type": "float"
        }
       ],
       "ref": "c53413ad-7649-4805-a5b8-7ff817d23668",
       "rows": [
        [
         "0",
         "1397.0",
         "469",
         "164.9",
         "489.8",
         "61898",
         "260131",
         "11.2",
         "499.7482038",
         "(61494.5, 125635]",
         "39.3",
         "36.9",
         "41.7",
         "Kitsap County, Washington",
         "2.54",
         "52.5",
         "11.5",
         "39.5",
         "42.1",
         "6.9",
         "23.2",
         "19.6",
         "51.9",
         "8.0",
         "75.1",
         null,
         "41.6",
         "32.9",
         "14.0",
         "81.78052858",
         "2.594728333",
         "4.821857102",
         "1.843478533",
         "52.85607588",
         "6.118831029"
        ],
        [
         "1",
         "173.0",
         "70",
         "161.3",
         "411.6",
         "48127",
         "43269",
         "18.6",
         "23.11123437",
         "(48021.6, 51046.4]",
         "33.0",
         "32.2",
         "33.7",
         "Kittitas County, Washington",
         "2.34",
         "44.5",
         "6.1",
         "22.4",
         "64.0",
         "7.5",
         "26.0",
         "22.7",
         "55.9",
         "7.8",
         "70.2",
         "53.8",
         "43.6",
         "31.1",
         "15.3",
         "89.22850915",
         "0.969102455",
         "2.246232585",
         "3.741351531",
         "45.37250044",
         "4.333095578"
        ],
        [
         "2",
         "102.0",
         "50",
         "174.7",
         "349.7",
         "49348",
         "21026",
         "14.6",
         "47.56016361",
         "(48021.6, 51046.4]",
         "45.0",
         "44.0",
         "45.8",
         "Klickitat County, Washington",
         "2.62",
         "54.2",
         "24.0",
         "36.6",
         null,
         "9.5",
         "29.0",
         "16.0",
         "45.9",
         "7.0",
         "63.7",
         "43.5",
         "34.9",
         "42.1",
         "21.1",
         "90.9221902",
         "0.739673391",
         "0.465898175",
         "2.747358309",
         "54.44486837",
         "3.729487817"
        ],
        [
         "3",
         "427.0",
         "202",
         "194.8",
         "430.4",
         "44243",
         "75882",
         "17.1",
         "342.6372526",
         "(42724.4, 45201]",
         "42.8",
         "42.2",
         "43.4",
         "Lewis County, Washington",
         "2.52",
         "52.7",
         "20.2",
         "41.2",
         "36.1",
         "2.5",
         "31.6",
         "9.3",
         "48.3",
         "12.1",
         "58.4",
         "40.3",
         "35.0",
         "45.3",
         "25.0",
         "91.74468649",
         "0.782625968",
         "1.16135867",
         "1.362643183",
         "51.02151448",
         "4.603840773"
        ],
        [
         "4",
         "57.0",
         "26",
         "144.4",
         "350.1",
         "49955",
         "10321",
         "12.5",
         "0.0",
         "(48021.6, 51046.4]",
         "48.3",
         "47.8",
         "48.9",
         "Lincoln County, Washington",
         "2.34",
         "57.8",
         "14.9",
         "43.0",
         "40.0",
         "2.0",
         "33.4",
         "15.0",
         "48.2",
         "4.8",
         "61.6",
         "43.9",
         "35.1",
         "44.0",
         "22.7",
         "94.10402393",
         "0.270192029",
         "0.665830358",
         "0.492135482",
         "54.02745995",
         "6.796657382"
        ]
       ],
       "shape": {
        "columns": 34,
        "rows": 5
       }
      },
      "text/html": [
       "<div>\n",
       "<style scoped>\n",
       "    .dataframe tbody tr th:only-of-type {\n",
       "        vertical-align: middle;\n",
       "    }\n",
       "\n",
       "    .dataframe tbody tr th {\n",
       "        vertical-align: top;\n",
       "    }\n",
       "\n",
       "    .dataframe thead th {\n",
       "        text-align: right;\n",
       "    }\n",
       "</style>\n",
       "<table border=\"1\" class=\"dataframe\">\n",
       "  <thead>\n",
       "    <tr style=\"text-align: right;\">\n",
       "      <th></th>\n",
       "      <th>avgAnnCount</th>\n",
       "      <th>avgDeathsPerYear</th>\n",
       "      <th>TARGET_deathRate</th>\n",
       "      <th>incidenceRate</th>\n",
       "      <th>medIncome</th>\n",
       "      <th>popEst2015</th>\n",
       "      <th>povertyPercent</th>\n",
       "      <th>studyPerCap</th>\n",
       "      <th>binnedInc</th>\n",
       "      <th>MedianAge</th>\n",
       "      <th>...</th>\n",
       "      <th>PctPrivateCoverageAlone</th>\n",
       "      <th>PctEmpPrivCoverage</th>\n",
       "      <th>PctPublicCoverage</th>\n",
       "      <th>PctPublicCoverageAlone</th>\n",
       "      <th>PctWhite</th>\n",
       "      <th>PctBlack</th>\n",
       "      <th>PctAsian</th>\n",
       "      <th>PctOtherRace</th>\n",
       "      <th>PctMarriedHouseholds</th>\n",
       "      <th>BirthRate</th>\n",
       "    </tr>\n",
       "  </thead>\n",
       "  <tbody>\n",
       "    <tr>\n",
       "      <th>0</th>\n",
       "      <td>1397.0</td>\n",
       "      <td>469</td>\n",
       "      <td>164.9</td>\n",
       "      <td>489.8</td>\n",
       "      <td>61898</td>\n",
       "      <td>260131</td>\n",
       "      <td>11.2</td>\n",
       "      <td>499.748204</td>\n",
       "      <td>(61494.5, 125635]</td>\n",
       "      <td>39.3</td>\n",
       "      <td>...</td>\n",
       "      <td>NaN</td>\n",
       "      <td>41.6</td>\n",
       "      <td>32.9</td>\n",
       "      <td>14.0</td>\n",
       "      <td>81.780529</td>\n",
       "      <td>2.594728</td>\n",
       "      <td>4.821857</td>\n",
       "      <td>1.843479</td>\n",
       "      <td>52.856076</td>\n",
       "      <td>6.118831</td>\n",
       "    </tr>\n",
       "    <tr>\n",
       "      <th>1</th>\n",
       "      <td>173.0</td>\n",
       "      <td>70</td>\n",
       "      <td>161.3</td>\n",
       "      <td>411.6</td>\n",
       "      <td>48127</td>\n",
       "      <td>43269</td>\n",
       "      <td>18.6</td>\n",
       "      <td>23.111234</td>\n",
       "      <td>(48021.6, 51046.4]</td>\n",
       "      <td>33.0</td>\n",
       "      <td>...</td>\n",
       "      <td>53.8</td>\n",
       "      <td>43.6</td>\n",
       "      <td>31.1</td>\n",
       "      <td>15.3</td>\n",
       "      <td>89.228509</td>\n",
       "      <td>0.969102</td>\n",
       "      <td>2.246233</td>\n",
       "      <td>3.741352</td>\n",
       "      <td>45.372500</td>\n",
       "      <td>4.333096</td>\n",
       "    </tr>\n",
       "    <tr>\n",
       "      <th>2</th>\n",
       "      <td>102.0</td>\n",
       "      <td>50</td>\n",
       "      <td>174.7</td>\n",
       "      <td>349.7</td>\n",
       "      <td>49348</td>\n",
       "      <td>21026</td>\n",
       "      <td>14.6</td>\n",
       "      <td>47.560164</td>\n",
       "      <td>(48021.6, 51046.4]</td>\n",
       "      <td>45.0</td>\n",
       "      <td>...</td>\n",
       "      <td>43.5</td>\n",
       "      <td>34.9</td>\n",
       "      <td>42.1</td>\n",
       "      <td>21.1</td>\n",
       "      <td>90.922190</td>\n",
       "      <td>0.739673</td>\n",
       "      <td>0.465898</td>\n",
       "      <td>2.747358</td>\n",
       "      <td>54.444868</td>\n",
       "      <td>3.729488</td>\n",
       "    </tr>\n",
       "    <tr>\n",
       "      <th>3</th>\n",
       "      <td>427.0</td>\n",
       "      <td>202</td>\n",
       "      <td>194.8</td>\n",
       "      <td>430.4</td>\n",
       "      <td>44243</td>\n",
       "      <td>75882</td>\n",
       "      <td>17.1</td>\n",
       "      <td>342.637253</td>\n",
       "      <td>(42724.4, 45201]</td>\n",
       "      <td>42.8</td>\n",
       "      <td>...</td>\n",
       "      <td>40.3</td>\n",
       "      <td>35.0</td>\n",
       "      <td>45.3</td>\n",
       "      <td>25.0</td>\n",
       "      <td>91.744686</td>\n",
       "      <td>0.782626</td>\n",
       "      <td>1.161359</td>\n",
       "      <td>1.362643</td>\n",
       "      <td>51.021514</td>\n",
       "      <td>4.603841</td>\n",
       "    </tr>\n",
       "    <tr>\n",
       "      <th>4</th>\n",
       "      <td>57.0</td>\n",
       "      <td>26</td>\n",
       "      <td>144.4</td>\n",
       "      <td>350.1</td>\n",
       "      <td>49955</td>\n",
       "      <td>10321</td>\n",
       "      <td>12.5</td>\n",
       "      <td>0.000000</td>\n",
       "      <td>(48021.6, 51046.4]</td>\n",
       "      <td>48.3</td>\n",
       "      <td>...</td>\n",
       "      <td>43.9</td>\n",
       "      <td>35.1</td>\n",
       "      <td>44.0</td>\n",
       "      <td>22.7</td>\n",
       "      <td>94.104024</td>\n",
       "      <td>0.270192</td>\n",
       "      <td>0.665830</td>\n",
       "      <td>0.492135</td>\n",
       "      <td>54.027460</td>\n",
       "      <td>6.796657</td>\n",
       "    </tr>\n",
       "  </tbody>\n",
       "</table>\n",
       "<p>5 rows × 34 columns</p>\n",
       "</div>"
      ],
      "text/plain": [
       "   avgAnnCount  avgDeathsPerYear  TARGET_deathRate  incidenceRate  medIncome  \\\n",
       "0       1397.0               469             164.9          489.8      61898   \n",
       "1        173.0                70             161.3          411.6      48127   \n",
       "2        102.0                50             174.7          349.7      49348   \n",
       "3        427.0               202             194.8          430.4      44243   \n",
       "4         57.0                26             144.4          350.1      49955   \n",
       "\n",
       "   popEst2015  povertyPercent  studyPerCap           binnedInc  MedianAge  \\\n",
       "0      260131            11.2   499.748204   (61494.5, 125635]       39.3   \n",
       "1       43269            18.6    23.111234  (48021.6, 51046.4]       33.0   \n",
       "2       21026            14.6    47.560164  (48021.6, 51046.4]       45.0   \n",
       "3       75882            17.1   342.637253    (42724.4, 45201]       42.8   \n",
       "4       10321            12.5     0.000000  (48021.6, 51046.4]       48.3   \n",
       "\n",
       "   ...  PctPrivateCoverageAlone  PctEmpPrivCoverage PctPublicCoverage  \\\n",
       "0  ...                      NaN                41.6              32.9   \n",
       "1  ...                     53.8                43.6              31.1   \n",
       "2  ...                     43.5                34.9              42.1   \n",
       "3  ...                     40.3                35.0              45.3   \n",
       "4  ...                     43.9                35.1              44.0   \n",
       "\n",
       "   PctPublicCoverageAlone   PctWhite  PctBlack  PctAsian  PctOtherRace  \\\n",
       "0                    14.0  81.780529  2.594728  4.821857      1.843479   \n",
       "1                    15.3  89.228509  0.969102  2.246233      3.741352   \n",
       "2                    21.1  90.922190  0.739673  0.465898      2.747358   \n",
       "3                    25.0  91.744686  0.782626  1.161359      1.362643   \n",
       "4                    22.7  94.104024  0.270192  0.665830      0.492135   \n",
       "\n",
       "   PctMarriedHouseholds  BirthRate  \n",
       "0             52.856076   6.118831  \n",
       "1             45.372500   4.333096  \n",
       "2             54.444868   3.729488  \n",
       "3             51.021514   4.603841  \n",
       "4             54.027460   6.796657  \n",
       "\n",
       "[5 rows x 34 columns]"
      ]
     },
     "metadata": {},
     "output_type": "display_data"
    }
   ],
   "source": [
    "try:\n",
    "    df = pd.read_csv(\"cancer_reg-1.csv\", encoding='utf-8')\n",
    "except UnicodeDecodeError:\n",
    "    try:\n",
    "        df = pd.read_csv(\"cancer_reg-1.csv\", encoding='latin-1')\n",
    "    except UnicodeDecodeError:\n",
    "        df = pd.read_csv(\"cancer_reg-1.csv\", encoding='cp1252')\n",
    "\n",
    "print(\"Dataset loaded successfully!\")\n",
    "print(f\"Shape: {df.shape}\")\n",
    "print(f\"Number of features: {len(list(df.columns))}\")\n",
    "print(f\"Columns: {list(df.columns)}\")\n",
    "print(\"\\nFirst 5 rows:\")\n",
    "display(df.head())"
   ]
  },
  {
   "cell_type": "code",
   "execution_count": 3,
   "id": "9d3417d8",
   "metadata": {},
   "outputs": [
    {
     "name": "stdout",
     "output_type": "stream",
     "text": [
      "PctSomeCol18_24            2285\n",
      "PctEmployed16_Over          152\n",
      "PctPrivateCoverageAlone     609\n",
      "dtype: int64\n",
      "Min values: {'avgAnnCount': 6.0, 'avgDeathsPerYear': 3, 'TARGET_deathRate': 59.7, 'incidenceRate': 201.3, 'medIncome': 22640, 'popEst2015': 827, 'povertyPercent': 3.2, 'studyPerCap': 0.0, 'MedianAge': 22.3, 'MedianAgeMale': 22.4, 'MedianAgeFemale': 22.3, 'AvgHouseholdSize': 0.0221, 'PercentMarried': 23.1, 'PctNoHS18_24': 0.0, 'PctHS18_24': 0.0, 'PctSomeCol18_24': 7.1, 'PctBachDeg18_24': 0.0, 'PctHS25_Over': 7.5, 'PctBachDeg25_Over': 2.5, 'PctEmployed16_Over': 17.6, 'PctUnemployed16_Over': 0.4, 'PctPrivateCoverage': 22.3, 'PctPrivateCoverageAlone': 15.7, 'PctEmpPrivCoverage': 13.5, 'PctPublicCoverage': 11.2, 'PctPublicCoverageAlone': 2.6, 'PctWhite': 10.1991551, 'PctBlack': 0.0, 'PctAsian': 0.0, 'PctOtherRace': 0.0, 'PctMarriedHouseholds': 22.99248989, 'BirthRate': 0.0}\n",
      "Max values: {'avgAnnCount': 38150.0, 'avgDeathsPerYear': 14010, 'TARGET_deathRate': 362.8, 'incidenceRate': 1206.9, 'medIncome': 125635, 'popEst2015': 10170292, 'povertyPercent': 47.4, 'studyPerCap': 9762.308998, 'MedianAge': 624.0, 'MedianAgeMale': 64.7, 'MedianAgeFemale': 65.7, 'AvgHouseholdSize': 3.97, 'PercentMarried': 72.5, 'PctNoHS18_24': 64.1, 'PctHS18_24': 72.5, 'PctSomeCol18_24': 79.0, 'PctBachDeg18_24': 51.8, 'PctHS25_Over': 54.8, 'PctBachDeg25_Over': 42.2, 'PctEmployed16_Over': 80.1, 'PctUnemployed16_Over': 29.4, 'PctPrivateCoverage': 92.3, 'PctPrivateCoverageAlone': 78.9, 'PctEmpPrivCoverage': 70.7, 'PctPublicCoverage': 65.1, 'PctPublicCoverageAlone': 46.6, 'PctWhite': 100.0, 'PctBlack': 85.94779858, 'PctAsian': 42.61942454, 'PctOtherRace': 41.93025142, 'PctMarriedHouseholds': 78.07539683, 'BirthRate': 21.32616487}\n",
      "\n",
      "Unique values in binnedInc column:\n",
      "10\n"
     ]
    }
   ],
   "source": [
    "print(df.isnull().sum()[df.isnull().sum() > 0]) if df.isnull().sum().sum() > 0 else print(\"No missing values found!\")\n",
    "\n",
    "# Min and max\n",
    "min_list = dict()\n",
    "max_list = dict()\n",
    "numeric_columns = df.select_dtypes(include=[np.number]).columns\n",
    "for column in numeric_columns:\n",
    "    min_list[column] = df[column].min() \n",
    "    max_list[column] = df[column].max() \n",
    "print(\"Min values:\", min_list)\n",
    "print(\"Max values:\", max_list)\n",
    "print(\"\\nUnique values in binnedInc column:\")\n",
    "unique_values = df[\"binnedInc\"].unique()\n",
    "print(len(unique_values))\n",
    "\n"
   ]
  },
  {
   "cell_type": "code",
   "execution_count": 4,
   "id": "a3d033dd",
   "metadata": {},
   "outputs": [],
   "source": [
    "def extract_mean_from_bin(bin_string):\n",
    "    # Remove brackets and parentheses\n",
    "    cleaned = bin_string.replace('[', '').replace(']', '').replace('(', '').replace(')', '')\n",
    "    # Split by comma and convert to float\n",
    "    values = [float(x.strip()) for x in cleaned.split(',')]\n",
    "    # Return the mean\n",
    "    return (values[0] + values[1]) / 2"
   ]
  },
  {
   "cell_type": "code",
   "execution_count": 5,
   "id": "3ae5763b",
   "metadata": {},
   "outputs": [],
   "source": [
    "# Fill missing values in PctEmployed16_Over with mean (CORRECTED)\n",
    "median_employed = df['PctEmployed16_Over'].median()\n",
    "df['PctEmployed16_Over'] = df['PctEmployed16_Over'].fillna(median_employed)\n",
    "\n",
    "median_privcover = df['PctPrivateCoverageAlone'].median()\n",
    "df['PctPrivateCoverageAlone'] = df['PctPrivateCoverageAlone'].fillna(median_privcover)"
   ]
  },
  {
   "cell_type": "code",
   "execution_count": 6,
   "id": "3819d666",
   "metadata": {},
   "outputs": [],
   "source": [
    "# Replace binnedInc with meanbin\n",
    "df['meanbin'] = df['binnedInc'].apply(extract_mean_from_bin)"
   ]
  },
  {
   "cell_type": "code",
   "execution_count": 7,
   "id": "a61004cf",
   "metadata": {},
   "outputs": [],
   "source": [
    "dropcol = ['binnedInc','PctSomeCol18_24','Geography']\n",
    "df = df.drop(dropcol,axis=1)"
   ]
  },
  {
   "cell_type": "code",
   "execution_count": 8,
   "id": "483ec3d6",
   "metadata": {},
   "outputs": [],
   "source": [
    "y = df['TARGET_deathRate']               \n",
    "X = df.drop('TARGET_deathRate', axis=1)  \n",
    "\n",
    "\n",
    "# Split dataset: 80% train, 20% test\n",
    "X_train, X_test, y_train, y_test = train_test_split(\n",
    "    X, y, \n",
    "    test_size=0.2,      \n",
    "    random_state=42,    \n",
    "    stratify=None       \n",
    ")\n",
    "scaler = StandardScaler()\n",
    "X_train_scaled = scaler.fit_transform(X_train)\n",
    "X_test_scaled = scaler.transform(X_test)"
   ]
  },
  {
   "cell_type": "code",
   "execution_count": 17,
   "id": "8e5b90fe",
   "metadata": {},
   "outputs": [
    {
     "data": {
      "text/plain": [
       "0.49392868531212286"
      ]
     },
     "execution_count": 17,
     "metadata": {},
     "output_type": "execute_result"
    }
   ],
   "source": [
    "reg=linear_model.LinearRegression()\n",
    "reg.fit(X_train_scaled,y_train)\n",
    "y_pred = reg.predict(X_test_scaled)\n",
    "r2_score(y_test,y_pred)"
   ]
  },
  {
   "cell_type": "code",
   "execution_count": 10,
   "id": "72de0d73",
   "metadata": {},
   "outputs": [
    {
     "name": "stderr",
     "output_type": "stream",
     "text": [
      "c:\\Users\\ACER\\anaconda3\\Lib\\site-packages\\keras\\src\\layers\\core\\dense.py:93: UserWarning: Do not pass an `input_shape`/`input_dim` argument to a layer. When using Sequential models, prefer using an `Input(shape)` object as the first layer in the model instead.\n",
      "  super().__init__(activity_regularizer=activity_regularizer, **kwargs)\n"
     ]
    }
   ],
   "source": [
    "model_1 = tf.keras.Sequential([\n",
    "    tf.keras.layers.Dense(16, activation='relu', input_shape=(X_train_scaled.shape[1],)),\n",
    "    tf.keras.layers.Dense(1)\n",
    "])\n",
    "\n",
    "model_2 = tf.keras.Sequential([\n",
    "    tf.keras.layers.Dense(30, activation='relu', input_shape=(X_train_scaled.shape[1],)),\n",
    "    tf.keras.layers.Dense(8, activation='relu'),\n",
    "    tf.keras.layers.Dense(1)\n",
    "])\n",
    "\n",
    "model_3 = tf.keras.Sequential([\n",
    "    tf.keras.layers.Dense(30, activation='relu', input_shape=(X_train_scaled.shape[1],)),\n",
    "    tf.keras.layers.Dense(16, activation='relu'),\n",
    "    tf.keras.layers.Dense(8, activation='relu'),\n",
    "    tf.keras.layers.Dense(1)\n",
    "])\n",
    "\n",
    "model_4 = tf.keras.Sequential([\n",
    "    tf.keras.layers.Dense(30, activation='relu', input_shape=(X_train_scaled.shape[1],)),\n",
    "    tf.keras.layers.Dense(16, activation='relu'),\n",
    "    tf.keras.layers.Dense(8, activation='relu'),\n",
    "    tf.keras.layers.Dense(4, activation='relu'),\n",
    "    tf.keras.layers.Dense(1)\n",
    "])"
   ]
  },
  {
   "cell_type": "code",
   "execution_count": 19,
   "id": "5b288731",
   "metadata": {},
   "outputs": [
    {
     "name": "stdout",
     "output_type": "stream",
     "text": [
      "Test Mean Absolute Error: nan\n",
      "\u001b[1m20/20\u001b[0m \u001b[32m━━━━━━━━━━━━━━━━━━━━\u001b[0m\u001b[37m\u001b[0m \u001b[1m0s\u001b[0m 2ms/step \n",
      "\u001b[1m20/20\u001b[0m \u001b[32m━━━━━━━━━━━━━━━━━━━━\u001b[0m\u001b[37m\u001b[0m \u001b[1m0s\u001b[0m 2ms/step \n"
     ]
    },
    {
     "ename": "ValueError",
     "evalue": "Input contains NaN.",
     "output_type": "error",
     "traceback": [
      "\u001b[1;31m---------------------------------------------------------------------------\u001b[0m",
      "\u001b[1;31mValueError\u001b[0m                                Traceback (most recent call last)",
      "Cell \u001b[1;32mIn[19], line 12\u001b[0m\n\u001b[0;32m     10\u001b[0m \u001b[38;5;66;03m# Make Predictions\u001b[39;00m\n\u001b[0;32m     11\u001b[0m predictions \u001b[38;5;241m=\u001b[39m model_1\u001b[38;5;241m.\u001b[39mpredict(X_test_scaled)\n\u001b[1;32m---> 12\u001b[0m r2_score(y_test,predictions)\n",
      "File \u001b[1;32mc:\\Users\\ACER\\anaconda3\\Lib\\site-packages\\sklearn\\utils\\_param_validation.py:213\u001b[0m, in \u001b[0;36mvalidate_params.<locals>.decorator.<locals>.wrapper\u001b[1;34m(*args, **kwargs)\u001b[0m\n\u001b[0;32m    207\u001b[0m \u001b[38;5;28;01mtry\u001b[39;00m:\n\u001b[0;32m    208\u001b[0m     \u001b[38;5;28;01mwith\u001b[39;00m config_context(\n\u001b[0;32m    209\u001b[0m         skip_parameter_validation\u001b[38;5;241m=\u001b[39m(\n\u001b[0;32m    210\u001b[0m             prefer_skip_nested_validation \u001b[38;5;129;01mor\u001b[39;00m global_skip_validation\n\u001b[0;32m    211\u001b[0m         )\n\u001b[0;32m    212\u001b[0m     ):\n\u001b[1;32m--> 213\u001b[0m         \u001b[38;5;28;01mreturn\u001b[39;00m func(\u001b[38;5;241m*\u001b[39margs, \u001b[38;5;241m*\u001b[39m\u001b[38;5;241m*\u001b[39mkwargs)\n\u001b[0;32m    214\u001b[0m \u001b[38;5;28;01mexcept\u001b[39;00m InvalidParameterError \u001b[38;5;28;01mas\u001b[39;00m e:\n\u001b[0;32m    215\u001b[0m     \u001b[38;5;66;03m# When the function is just a wrapper around an estimator, we allow\u001b[39;00m\n\u001b[0;32m    216\u001b[0m     \u001b[38;5;66;03m# the function to delegate validation to the estimator, but we replace\u001b[39;00m\n\u001b[0;32m    217\u001b[0m     \u001b[38;5;66;03m# the name of the estimator by the name of the function in the error\u001b[39;00m\n\u001b[0;32m    218\u001b[0m     \u001b[38;5;66;03m# message to avoid confusion.\u001b[39;00m\n\u001b[0;32m    219\u001b[0m     msg \u001b[38;5;241m=\u001b[39m re\u001b[38;5;241m.\u001b[39msub(\n\u001b[0;32m    220\u001b[0m         \u001b[38;5;124mr\u001b[39m\u001b[38;5;124m\"\u001b[39m\u001b[38;5;124mparameter of \u001b[39m\u001b[38;5;124m\\\u001b[39m\u001b[38;5;124mw+ must be\u001b[39m\u001b[38;5;124m\"\u001b[39m,\n\u001b[0;32m    221\u001b[0m         \u001b[38;5;124mf\u001b[39m\u001b[38;5;124m\"\u001b[39m\u001b[38;5;124mparameter of \u001b[39m\u001b[38;5;132;01m{\u001b[39;00mfunc\u001b[38;5;241m.\u001b[39m\u001b[38;5;18m__qualname__\u001b[39m\u001b[38;5;132;01m}\u001b[39;00m\u001b[38;5;124m must be\u001b[39m\u001b[38;5;124m\"\u001b[39m,\n\u001b[0;32m    222\u001b[0m         \u001b[38;5;28mstr\u001b[39m(e),\n\u001b[0;32m    223\u001b[0m     )\n",
      "File \u001b[1;32mc:\\Users\\ACER\\anaconda3\\Lib\\site-packages\\sklearn\\metrics\\_regression.py:1204\u001b[0m, in \u001b[0;36mr2_score\u001b[1;34m(y_true, y_pred, sample_weight, multioutput, force_finite)\u001b[0m\n\u001b[0;32m   1198\u001b[0m xp, _, device_ \u001b[38;5;241m=\u001b[39m get_namespace_and_device(\n\u001b[0;32m   1199\u001b[0m     y_true, y_pred, sample_weight, multioutput\n\u001b[0;32m   1200\u001b[0m )\n\u001b[0;32m   1202\u001b[0m dtype \u001b[38;5;241m=\u001b[39m _find_matching_floating_dtype(y_true, y_pred, sample_weight, xp\u001b[38;5;241m=\u001b[39mxp)\n\u001b[1;32m-> 1204\u001b[0m _, y_true, y_pred, multioutput \u001b[38;5;241m=\u001b[39m _check_reg_targets(\n\u001b[0;32m   1205\u001b[0m     y_true, y_pred, multioutput, dtype\u001b[38;5;241m=\u001b[39mdtype, xp\u001b[38;5;241m=\u001b[39mxp\n\u001b[0;32m   1206\u001b[0m )\n\u001b[0;32m   1207\u001b[0m check_consistent_length(y_true, y_pred, sample_weight)\n\u001b[0;32m   1209\u001b[0m \u001b[38;5;28;01mif\u001b[39;00m _num_samples(y_pred) \u001b[38;5;241m<\u001b[39m \u001b[38;5;241m2\u001b[39m:\n",
      "File \u001b[1;32mc:\\Users\\ACER\\anaconda3\\Lib\\site-packages\\sklearn\\metrics\\_regression.py:113\u001b[0m, in \u001b[0;36m_check_reg_targets\u001b[1;34m(y_true, y_pred, multioutput, dtype, xp)\u001b[0m\n\u001b[0;32m    111\u001b[0m check_consistent_length(y_true, y_pred)\n\u001b[0;32m    112\u001b[0m y_true \u001b[38;5;241m=\u001b[39m check_array(y_true, ensure_2d\u001b[38;5;241m=\u001b[39m\u001b[38;5;28;01mFalse\u001b[39;00m, dtype\u001b[38;5;241m=\u001b[39mdtype)\n\u001b[1;32m--> 113\u001b[0m y_pred \u001b[38;5;241m=\u001b[39m check_array(y_pred, ensure_2d\u001b[38;5;241m=\u001b[39m\u001b[38;5;28;01mFalse\u001b[39;00m, dtype\u001b[38;5;241m=\u001b[39mdtype)\n\u001b[0;32m    115\u001b[0m \u001b[38;5;28;01mif\u001b[39;00m y_true\u001b[38;5;241m.\u001b[39mndim \u001b[38;5;241m==\u001b[39m \u001b[38;5;241m1\u001b[39m:\n\u001b[0;32m    116\u001b[0m     y_true \u001b[38;5;241m=\u001b[39m xp\u001b[38;5;241m.\u001b[39mreshape(y_true, (\u001b[38;5;241m-\u001b[39m\u001b[38;5;241m1\u001b[39m, \u001b[38;5;241m1\u001b[39m))\n",
      "File \u001b[1;32mc:\\Users\\ACER\\anaconda3\\Lib\\site-packages\\sklearn\\utils\\validation.py:1064\u001b[0m, in \u001b[0;36mcheck_array\u001b[1;34m(array, accept_sparse, accept_large_sparse, dtype, order, copy, force_writeable, force_all_finite, ensure_2d, allow_nd, ensure_min_samples, ensure_min_features, estimator, input_name)\u001b[0m\n\u001b[0;32m   1058\u001b[0m     \u001b[38;5;28;01mraise\u001b[39;00m \u001b[38;5;167;01mValueError\u001b[39;00m(\n\u001b[0;32m   1059\u001b[0m         \u001b[38;5;124m\"\u001b[39m\u001b[38;5;124mFound array with dim \u001b[39m\u001b[38;5;132;01m%d\u001b[39;00m\u001b[38;5;124m. \u001b[39m\u001b[38;5;132;01m%s\u001b[39;00m\u001b[38;5;124m expected <= 2.\u001b[39m\u001b[38;5;124m\"\u001b[39m\n\u001b[0;32m   1060\u001b[0m         \u001b[38;5;241m%\u001b[39m (array\u001b[38;5;241m.\u001b[39mndim, estimator_name)\n\u001b[0;32m   1061\u001b[0m     )\n\u001b[0;32m   1063\u001b[0m \u001b[38;5;28;01mif\u001b[39;00m force_all_finite:\n\u001b[1;32m-> 1064\u001b[0m     _assert_all_finite(\n\u001b[0;32m   1065\u001b[0m         array,\n\u001b[0;32m   1066\u001b[0m         input_name\u001b[38;5;241m=\u001b[39minput_name,\n\u001b[0;32m   1067\u001b[0m         estimator_name\u001b[38;5;241m=\u001b[39mestimator_name,\n\u001b[0;32m   1068\u001b[0m         allow_nan\u001b[38;5;241m=\u001b[39mforce_all_finite \u001b[38;5;241m==\u001b[39m \u001b[38;5;124m\"\u001b[39m\u001b[38;5;124mallow-nan\u001b[39m\u001b[38;5;124m\"\u001b[39m,\n\u001b[0;32m   1069\u001b[0m     )\n\u001b[0;32m   1071\u001b[0m \u001b[38;5;28;01mif\u001b[39;00m copy:\n\u001b[0;32m   1072\u001b[0m     \u001b[38;5;28;01mif\u001b[39;00m _is_numpy_namespace(xp):\n\u001b[0;32m   1073\u001b[0m         \u001b[38;5;66;03m# only make a copy if `array` and `array_orig` may share memory`\u001b[39;00m\n",
      "File \u001b[1;32mc:\\Users\\ACER\\anaconda3\\Lib\\site-packages\\sklearn\\utils\\validation.py:123\u001b[0m, in \u001b[0;36m_assert_all_finite\u001b[1;34m(X, allow_nan, msg_dtype, estimator_name, input_name)\u001b[0m\n\u001b[0;32m    120\u001b[0m \u001b[38;5;28;01mif\u001b[39;00m first_pass_isfinite:\n\u001b[0;32m    121\u001b[0m     \u001b[38;5;28;01mreturn\u001b[39;00m\n\u001b[1;32m--> 123\u001b[0m _assert_all_finite_element_wise(\n\u001b[0;32m    124\u001b[0m     X,\n\u001b[0;32m    125\u001b[0m     xp\u001b[38;5;241m=\u001b[39mxp,\n\u001b[0;32m    126\u001b[0m     allow_nan\u001b[38;5;241m=\u001b[39mallow_nan,\n\u001b[0;32m    127\u001b[0m     msg_dtype\u001b[38;5;241m=\u001b[39mmsg_dtype,\n\u001b[0;32m    128\u001b[0m     estimator_name\u001b[38;5;241m=\u001b[39mestimator_name,\n\u001b[0;32m    129\u001b[0m     input_name\u001b[38;5;241m=\u001b[39minput_name,\n\u001b[0;32m    130\u001b[0m )\n",
      "File \u001b[1;32mc:\\Users\\ACER\\anaconda3\\Lib\\site-packages\\sklearn\\utils\\validation.py:172\u001b[0m, in \u001b[0;36m_assert_all_finite_element_wise\u001b[1;34m(X, xp, allow_nan, msg_dtype, estimator_name, input_name)\u001b[0m\n\u001b[0;32m    155\u001b[0m \u001b[38;5;28;01mif\u001b[39;00m estimator_name \u001b[38;5;129;01mand\u001b[39;00m input_name \u001b[38;5;241m==\u001b[39m \u001b[38;5;124m\"\u001b[39m\u001b[38;5;124mX\u001b[39m\u001b[38;5;124m\"\u001b[39m \u001b[38;5;129;01mand\u001b[39;00m has_nan_error:\n\u001b[0;32m    156\u001b[0m     \u001b[38;5;66;03m# Improve the error message on how to handle missing values in\u001b[39;00m\n\u001b[0;32m    157\u001b[0m     \u001b[38;5;66;03m# scikit-learn.\u001b[39;00m\n\u001b[0;32m    158\u001b[0m     msg_err \u001b[38;5;241m+\u001b[39m\u001b[38;5;241m=\u001b[39m (\n\u001b[0;32m    159\u001b[0m         \u001b[38;5;124mf\u001b[39m\u001b[38;5;124m\"\u001b[39m\u001b[38;5;130;01m\\n\u001b[39;00m\u001b[38;5;132;01m{\u001b[39;00mestimator_name\u001b[38;5;132;01m}\u001b[39;00m\u001b[38;5;124m does not accept missing values\u001b[39m\u001b[38;5;124m\"\u001b[39m\n\u001b[0;32m    160\u001b[0m         \u001b[38;5;124m\"\u001b[39m\u001b[38;5;124m encoded as NaN natively. For supervised learning, you might want\u001b[39m\u001b[38;5;124m\"\u001b[39m\n\u001b[1;32m   (...)\u001b[0m\n\u001b[0;32m    170\u001b[0m         \u001b[38;5;124m\"\u001b[39m\u001b[38;5;124m#estimators-that-handle-nan-values\u001b[39m\u001b[38;5;124m\"\u001b[39m\n\u001b[0;32m    171\u001b[0m     )\n\u001b[1;32m--> 172\u001b[0m \u001b[38;5;28;01mraise\u001b[39;00m \u001b[38;5;167;01mValueError\u001b[39;00m(msg_err)\n",
      "\u001b[1;31mValueError\u001b[0m: Input contains NaN."
     ]
    }
   ],
   "source": [
    "model_1.compile(optimizer=tf.keras.optimizers.SGD(learning_rate=0.001), loss='mean_squared_error', metrics=['mean_absolute_error'])\n",
    "\n",
    "# Train Model\n",
    "model_1.fit(X_train_scaled, y_train, epochs=100, batch_size=16, verbose=0)\n",
    "\n",
    "# Evaluate Model\n",
    "loss, mae = model_1.evaluate(X_test_scaled, y_test, verbose=0)\n",
    "print(f\"Test Mean Absolute Error: {mae:.2f}\")\n",
    "\n",
    "# Make Predictions\n",
    "predictions = model_1.predict(X_test_scaled)\n",
    "r2_score(y_test,predictions)"
   ]
  }
 ],
 "metadata": {
  "kernelspec": {
   "display_name": "base",
   "language": "python",
   "name": "python3"
  },
  "language_info": {
   "codemirror_mode": {
    "name": "ipython",
    "version": 3
   },
   "file_extension": ".py",
   "mimetype": "text/x-python",
   "name": "python",
   "nbconvert_exporter": "python",
   "pygments_lexer": "ipython3",
   "version": "3.12.7"
  }
 },
 "nbformat": 4,
 "nbformat_minor": 5
}
